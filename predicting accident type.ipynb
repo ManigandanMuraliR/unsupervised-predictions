{
 "cells": [
  {
   "cell_type": "code",
   "execution_count": 50,
   "metadata": {},
   "outputs": [],
   "source": [
    "#Import all the useful libraries\n",
    "import pandas as pd\n",
    "import numpy as np\n",
    "import matplotlib.pyplot as plt\n",
    "import seaborn as sns\n",
    "from sklearn.naive_bayes import BernoulliNB,GaussianNB\n",
    "from sklearn.model_selection import train_test_split\n",
    "from sklearn.preprocessing import StandardScaler\n",
    "%matplotlib inline"
   ]
  },
  {
   "cell_type": "code",
   "execution_count": 2,
   "metadata": {},
   "outputs": [],
   "source": [
    "df=pd.read_csv(\"accidents-1.csv\")"
   ]
  },
  {
   "cell_type": "code",
   "execution_count": 3,
   "metadata": {},
   "outputs": [
    {
     "data": {
      "text/html": [
       "<div>\n",
       "<style scoped>\n",
       "    .dataframe tbody tr th:only-of-type {\n",
       "        vertical-align: middle;\n",
       "    }\n",
       "\n",
       "    .dataframe tbody tr th {\n",
       "        vertical-align: top;\n",
       "    }\n",
       "\n",
       "    .dataframe thead th {\n",
       "        text-align: right;\n",
       "    }\n",
       "</style>\n",
       "<table border=\"1\" class=\"dataframe\">\n",
       "  <thead>\n",
       "    <tr style=\"text-align: right;\">\n",
       "      <th></th>\n",
       "      <th>RushHour</th>\n",
       "      <th>WRK_ZONE</th>\n",
       "      <th>WKDY</th>\n",
       "      <th>INT_HWY</th>\n",
       "      <th>LGTCON_day</th>\n",
       "      <th>LEVEL</th>\n",
       "      <th>SPD_LIM</th>\n",
       "      <th>SUR_COND_dry</th>\n",
       "      <th>TRAF_two_way</th>\n",
       "      <th>WEATHER_adverse</th>\n",
       "      <th>MAX_SEV</th>\n",
       "    </tr>\n",
       "  </thead>\n",
       "  <tbody>\n",
       "    <tr>\n",
       "      <th>0</th>\n",
       "      <td>1</td>\n",
       "      <td>0</td>\n",
       "      <td>1</td>\n",
       "      <td>1</td>\n",
       "      <td>0</td>\n",
       "      <td>1</td>\n",
       "      <td>70</td>\n",
       "      <td>0</td>\n",
       "      <td>0</td>\n",
       "      <td>1</td>\n",
       "      <td>NOT_SEVERE</td>\n",
       "    </tr>\n",
       "    <tr>\n",
       "      <th>1</th>\n",
       "      <td>1</td>\n",
       "      <td>0</td>\n",
       "      <td>1</td>\n",
       "      <td>0</td>\n",
       "      <td>0</td>\n",
       "      <td>0</td>\n",
       "      <td>55</td>\n",
       "      <td>0</td>\n",
       "      <td>1</td>\n",
       "      <td>0</td>\n",
       "      <td>SEVERE</td>\n",
       "    </tr>\n",
       "    <tr>\n",
       "      <th>2</th>\n",
       "      <td>1</td>\n",
       "      <td>0</td>\n",
       "      <td>0</td>\n",
       "      <td>0</td>\n",
       "      <td>0</td>\n",
       "      <td>0</td>\n",
       "      <td>35</td>\n",
       "      <td>0</td>\n",
       "      <td>0</td>\n",
       "      <td>1</td>\n",
       "      <td>NOT_SEVERE</td>\n",
       "    </tr>\n",
       "    <tr>\n",
       "      <th>3</th>\n",
       "      <td>1</td>\n",
       "      <td>0</td>\n",
       "      <td>1</td>\n",
       "      <td>0</td>\n",
       "      <td>0</td>\n",
       "      <td>1</td>\n",
       "      <td>35</td>\n",
       "      <td>0</td>\n",
       "      <td>0</td>\n",
       "      <td>1</td>\n",
       "      <td>NOT_SEVERE</td>\n",
       "    </tr>\n",
       "    <tr>\n",
       "      <th>4</th>\n",
       "      <td>1</td>\n",
       "      <td>0</td>\n",
       "      <td>1</td>\n",
       "      <td>0</td>\n",
       "      <td>0</td>\n",
       "      <td>0</td>\n",
       "      <td>25</td>\n",
       "      <td>0</td>\n",
       "      <td>0</td>\n",
       "      <td>1</td>\n",
       "      <td>SEVERE</td>\n",
       "    </tr>\n",
       "  </tbody>\n",
       "</table>\n",
       "</div>"
      ],
      "text/plain": [
       "   RushHour  WRK_ZONE  WKDY  INT_HWY  LGTCON_day  LEVEL  SPD_LIM  \\\n",
       "0         1         0     1        1           0      1       70   \n",
       "1         1         0     1        0           0      0       55   \n",
       "2         1         0     0        0           0      0       35   \n",
       "3         1         0     1        0           0      1       35   \n",
       "4         1         0     1        0           0      0       25   \n",
       "\n",
       "   SUR_COND_dry  TRAF_two_way  WEATHER_adverse     MAX_SEV  \n",
       "0             0             0                1  NOT_SEVERE  \n",
       "1             0             1                0      SEVERE  \n",
       "2             0             0                1  NOT_SEVERE  \n",
       "3             0             0                1  NOT_SEVERE  \n",
       "4             0             0                1      SEVERE  "
      ]
     },
     "execution_count": 3,
     "metadata": {},
     "output_type": "execute_result"
    }
   ],
   "source": [
    "df.head()"
   ]
  },
  {
   "cell_type": "code",
   "execution_count": 7,
   "metadata": {},
   "outputs": [
    {
     "data": {
      "text/plain": [
       "RushHour              int64\n",
       "WRK_ZONE              int64\n",
       "WKDY                  int64\n",
       "INT_HWY               int64\n",
       "LGTCON_day            int64\n",
       "LEVEL                 int64\n",
       "SPD_LIM               int64\n",
       "SUR_COND_dry          int64\n",
       "TRAF_two_way          int64\n",
       "WEATHER_adverse       int64\n",
       "MAX_SEV            category\n",
       "dtype: object"
      ]
     },
     "execution_count": 7,
     "metadata": {},
     "output_type": "execute_result"
    }
   ],
   "source": [
    "df.dtypes"
   ]
  },
  {
   "cell_type": "code",
   "execution_count": 6,
   "metadata": {},
   "outputs": [],
   "source": [
    "df['MAX_SEV']=df['MAX_SEV'].astype('category')"
   ]
  },
  {
   "cell_type": "code",
   "execution_count": 12,
   "metadata": {},
   "outputs": [
    {
     "data": {
      "text/plain": [
       "[NOT_SEVERE, SEVERE]\n",
       "Categories (2, object): [NOT_SEVERE, SEVERE]"
      ]
     },
     "execution_count": 12,
     "metadata": {},
     "output_type": "execute_result"
    }
   ],
   "source": [
    "df['MAX_SEV'].unique()"
   ]
  },
  {
   "cell_type": "code",
   "execution_count": 61,
   "metadata": {},
   "outputs": [],
   "source": [
    "sc=StandardScaler()\n",
    "x=sc.fit_transform(x)"
   ]
  },
  {
   "cell_type": "code",
   "execution_count": 62,
   "metadata": {},
   "outputs": [],
   "source": [
    "x=df.drop('MAX_SEV',axis=1)\n",
    "y=df['MAX_SEV']"
   ]
  },
  {
   "cell_type": "code",
   "execution_count": 63,
   "metadata": {},
   "outputs": [
    {
     "name": "stderr",
     "output_type": "stream",
     "text": [
      "C:\\Users\\murali\\Anaconda3\\lib\\site-packages\\sklearn\\preprocessing\\data.py:625: DataConversionWarning: Data with input dtype int64 were all converted to float64 by StandardScaler.\n",
      "  return self.partial_fit(X, y)\n",
      "C:\\Users\\murali\\Anaconda3\\lib\\site-packages\\sklearn\\base.py:462: DataConversionWarning: Data with input dtype int64 were all converted to float64 by StandardScaler.\n",
      "  return self.fit(X, **fit_params).transform(X)\n"
     ]
    }
   ],
   "source": [
    "x=pd.DataFrame(sc.fit_transform(x),columns=x.columns)"
   ]
  },
  {
   "cell_type": "code",
   "execution_count": 64,
   "metadata": {},
   "outputs": [
    {
     "data": {
      "text/html": [
       "<div>\n",
       "<style scoped>\n",
       "    .dataframe tbody tr th:only-of-type {\n",
       "        vertical-align: middle;\n",
       "    }\n",
       "\n",
       "    .dataframe tbody tr th {\n",
       "        vertical-align: top;\n",
       "    }\n",
       "\n",
       "    .dataframe thead th {\n",
       "        text-align: right;\n",
       "    }\n",
       "</style>\n",
       "<table border=\"1\" class=\"dataframe\">\n",
       "  <thead>\n",
       "    <tr style=\"text-align: right;\">\n",
       "      <th></th>\n",
       "      <th>RushHour</th>\n",
       "      <th>WRK_ZONE</th>\n",
       "      <th>WKDY</th>\n",
       "      <th>INT_HWY</th>\n",
       "      <th>LGTCON_day</th>\n",
       "      <th>LEVEL</th>\n",
       "      <th>SPD_LIM</th>\n",
       "      <th>SUR_COND_dry</th>\n",
       "      <th>TRAF_two_way</th>\n",
       "      <th>WEATHER_adverse</th>\n",
       "    </tr>\n",
       "  </thead>\n",
       "  <tbody>\n",
       "    <tr>\n",
       "      <th>0</th>\n",
       "      <td>1.087115</td>\n",
       "      <td>-0.108648</td>\n",
       "      <td>0.507801</td>\n",
       "      <td>1.723447</td>\n",
       "      <td>-1.644294</td>\n",
       "      <td>1.829707</td>\n",
       "      <td>2.178622</td>\n",
       "      <td>-1.910802</td>\n",
       "      <td>-1.183216</td>\n",
       "      <td>2.277184</td>\n",
       "    </tr>\n",
       "    <tr>\n",
       "      <th>1</th>\n",
       "      <td>1.087115</td>\n",
       "      <td>-0.108648</td>\n",
       "      <td>0.507801</td>\n",
       "      <td>-0.296217</td>\n",
       "      <td>-1.644294</td>\n",
       "      <td>-0.546536</td>\n",
       "      <td>0.955059</td>\n",
       "      <td>-1.910802</td>\n",
       "      <td>0.845154</td>\n",
       "      <td>-0.439139</td>\n",
       "    </tr>\n",
       "    <tr>\n",
       "      <th>2</th>\n",
       "      <td>1.087115</td>\n",
       "      <td>-0.108648</td>\n",
       "      <td>-1.969276</td>\n",
       "      <td>-0.296217</td>\n",
       "      <td>-1.644294</td>\n",
       "      <td>-0.546536</td>\n",
       "      <td>-0.676358</td>\n",
       "      <td>-1.910802</td>\n",
       "      <td>-1.183216</td>\n",
       "      <td>2.277184</td>\n",
       "    </tr>\n",
       "    <tr>\n",
       "      <th>3</th>\n",
       "      <td>1.087115</td>\n",
       "      <td>-0.108648</td>\n",
       "      <td>0.507801</td>\n",
       "      <td>-0.296217</td>\n",
       "      <td>-1.644294</td>\n",
       "      <td>1.829707</td>\n",
       "      <td>-0.676358</td>\n",
       "      <td>-1.910802</td>\n",
       "      <td>-1.183216</td>\n",
       "      <td>2.277184</td>\n",
       "    </tr>\n",
       "    <tr>\n",
       "      <th>4</th>\n",
       "      <td>1.087115</td>\n",
       "      <td>-0.108648</td>\n",
       "      <td>0.507801</td>\n",
       "      <td>-0.296217</td>\n",
       "      <td>-1.644294</td>\n",
       "      <td>-0.546536</td>\n",
       "      <td>-1.492067</td>\n",
       "      <td>-1.910802</td>\n",
       "      <td>-1.183216</td>\n",
       "      <td>2.277184</td>\n",
       "    </tr>\n",
       "  </tbody>\n",
       "</table>\n",
       "</div>"
      ],
      "text/plain": [
       "   RushHour  WRK_ZONE      WKDY   INT_HWY  LGTCON_day     LEVEL   SPD_LIM  \\\n",
       "0  1.087115 -0.108648  0.507801  1.723447   -1.644294  1.829707  2.178622   \n",
       "1  1.087115 -0.108648  0.507801 -0.296217   -1.644294 -0.546536  0.955059   \n",
       "2  1.087115 -0.108648 -1.969276 -0.296217   -1.644294 -0.546536 -0.676358   \n",
       "3  1.087115 -0.108648  0.507801 -0.296217   -1.644294  1.829707 -0.676358   \n",
       "4  1.087115 -0.108648  0.507801 -0.296217   -1.644294 -0.546536 -1.492067   \n",
       "\n",
       "   SUR_COND_dry  TRAF_two_way  WEATHER_adverse  \n",
       "0     -1.910802     -1.183216         2.277184  \n",
       "1     -1.910802      0.845154        -0.439139  \n",
       "2     -1.910802     -1.183216         2.277184  \n",
       "3     -1.910802     -1.183216         2.277184  \n",
       "4     -1.910802     -1.183216         2.277184  "
      ]
     },
     "execution_count": 64,
     "metadata": {},
     "output_type": "execute_result"
    }
   ],
   "source": [
    "x.head()"
   ]
  },
  {
   "cell_type": "code",
   "execution_count": 65,
   "metadata": {},
   "outputs": [
    {
     "name": "stderr",
     "output_type": "stream",
     "text": [
      "C:\\Users\\murali\\Anaconda3\\lib\\site-packages\\sklearn\\model_selection\\_split.py:2179: FutureWarning: From version 0.21, test_size will always complement train_size unless both are specified.\n",
      "  FutureWarning)\n"
     ]
    }
   ],
   "source": [
    "xtrain,xtest,ytrain,ytest=train_test_split(x,y,train_size=0.7,random_state=0)"
   ]
  },
  {
   "cell_type": "code",
   "execution_count": 66,
   "metadata": {},
   "outputs": [],
   "source": [
    "br=BernoulliNB()\n",
    "gb=GaussianNB()"
   ]
  },
  {
   "cell_type": "code",
   "execution_count": 67,
   "metadata": {},
   "outputs": [
    {
     "data": {
      "text/plain": [
       "GaussianNB(priors=None, var_smoothing=1e-09)"
      ]
     },
     "execution_count": 67,
     "metadata": {},
     "output_type": "execute_result"
    }
   ],
   "source": [
    "br.fit(xtrain,ytrain)\n",
    "gb.fit(xtrain,ytrain)"
   ]
  },
  {
   "cell_type": "code",
   "execution_count": 68,
   "metadata": {},
   "outputs": [],
   "source": [
    "npred=br.predict(xtest)\n",
    "gbpred=gb.predict(xtest)"
   ]
  },
  {
   "cell_type": "code",
   "execution_count": 69,
   "metadata": {},
   "outputs": [],
   "source": [
    "from sklearn.metrics import confusion_matrix,classification_report,accuracy_score"
   ]
  },
  {
   "cell_type": "code",
   "execution_count": 70,
   "metadata": {},
   "outputs": [
    {
     "data": {
      "text/plain": [
       "array([[32, 52],\n",
       "       [36, 60]], dtype=int64)"
      ]
     },
     "execution_count": 70,
     "metadata": {},
     "output_type": "execute_result"
    }
   ],
   "source": [
    "confusion_matrix(ytest,npred)"
   ]
  },
  {
   "cell_type": "code",
   "execution_count": 71,
   "metadata": {},
   "outputs": [
    {
     "name": "stdout",
     "output_type": "stream",
     "text": [
      "              precision    recall  f1-score   support\n",
      "\n",
      "  NOT_SEVERE       0.38      0.47      0.42        68\n",
      "      SEVERE       0.62      0.54      0.58       112\n",
      "\n",
      "   micro avg       0.51      0.51      0.51       180\n",
      "   macro avg       0.50      0.50      0.50       180\n",
      "weighted avg       0.53      0.51      0.52       180\n",
      "\n"
     ]
    }
   ],
   "source": [
    "print(classification_report(npred,ytest))"
   ]
  },
  {
   "cell_type": "code",
   "execution_count": 72,
   "metadata": {},
   "outputs": [
    {
     "data": {
      "text/plain": [
       "51.11111111111111"
      ]
     },
     "execution_count": 72,
     "metadata": {},
     "output_type": "execute_result"
    }
   ],
   "source": [
    "accuracy_score(ytest,npred)*100"
   ]
  },
  {
   "cell_type": "code",
   "execution_count": 73,
   "metadata": {},
   "outputs": [
    {
     "data": {
      "text/plain": [
       "array([[59, 25],\n",
       "       [68, 28]], dtype=int64)"
      ]
     },
     "execution_count": 73,
     "metadata": {},
     "output_type": "execute_result"
    }
   ],
   "source": [
    "#GUASSIANNB\n",
    "confusion_matrix(ytest,gbpred)"
   ]
  },
  {
   "cell_type": "code",
   "execution_count": 74,
   "metadata": {},
   "outputs": [
    {
     "name": "stdout",
     "output_type": "stream",
     "text": [
      "              precision    recall  f1-score   support\n",
      "\n",
      "  NOT_SEVERE       0.70      0.46      0.56       127\n",
      "      SEVERE       0.29      0.53      0.38        53\n",
      "\n",
      "   micro avg       0.48      0.48      0.48       180\n",
      "   macro avg       0.50      0.50      0.47       180\n",
      "weighted avg       0.58      0.48      0.51       180\n",
      "\n"
     ]
    }
   ],
   "source": [
    "print(classification_report(gbpred,ytest))"
   ]
  },
  {
   "cell_type": "code",
   "execution_count": 75,
   "metadata": {},
   "outputs": [
    {
     "data": {
      "text/plain": [
       "48.333333333333336"
      ]
     },
     "execution_count": 75,
     "metadata": {},
     "output_type": "execute_result"
    }
   ],
   "source": [
    "accuracy_score(ytest,gbpred)*100"
   ]
  },
  {
   "cell_type": "code",
   "execution_count": 76,
   "metadata": {},
   "outputs": [
    {
     "data": {
      "text/plain": [
       "434        SEVERE\n",
       "122        SEVERE\n",
       "224        SEVERE\n",
       "479    NOT_SEVERE\n",
       "205    NOT_SEVERE\n",
       "569        SEVERE\n",
       "432    NOT_SEVERE\n",
       "526    NOT_SEVERE\n",
       "439        SEVERE\n",
       "162    NOT_SEVERE\n",
       "315    NOT_SEVERE\n",
       "400    NOT_SEVERE\n",
       "173    NOT_SEVERE\n",
       "283    NOT_SEVERE\n",
       "48         SEVERE\n",
       "457        SEVERE\n",
       "482        SEVERE\n",
       "85         SEVERE\n",
       "187        SEVERE\n",
       "365        SEVERE\n",
       "524        SEVERE\n",
       "480        SEVERE\n",
       "346    NOT_SEVERE\n",
       "194    NOT_SEVERE\n",
       "477        SEVERE\n",
       "186        SEVERE\n",
       "299        SEVERE\n",
       "495    NOT_SEVERE\n",
       "446    NOT_SEVERE\n",
       "594        SEVERE\n",
       "          ...    \n",
       "46         SEVERE\n",
       "263        SEVERE\n",
       "458        SEVERE\n",
       "230        SEVERE\n",
       "107    NOT_SEVERE\n",
       "380    NOT_SEVERE\n",
       "372    NOT_SEVERE\n",
       "0      NOT_SEVERE\n",
       "196        SEVERE\n",
       "71     NOT_SEVERE\n",
       "165    NOT_SEVERE\n",
       "102    NOT_SEVERE\n",
       "393        SEVERE\n",
       "108    NOT_SEVERE\n",
       "586        SEVERE\n",
       "547        SEVERE\n",
       "538        SEVERE\n",
       "345    NOT_SEVERE\n",
       "405    NOT_SEVERE\n",
       "367        SEVERE\n",
       "210    NOT_SEVERE\n",
       "464    NOT_SEVERE\n",
       "26         SEVERE\n",
       "213        SEVERE\n",
       "545        SEVERE\n",
       "249        SEVERE\n",
       "357        SEVERE\n",
       "455    NOT_SEVERE\n",
       "493        SEVERE\n",
       "134        SEVERE\n",
       "Name: MAX_SEV, Length: 180, dtype: category\n",
       "Categories (2, object): [NOT_SEVERE, SEVERE]"
      ]
     },
     "execution_count": 76,
     "metadata": {},
     "output_type": "execute_result"
    }
   ],
   "source": [
    "ytest"
   ]
  },
  {
   "cell_type": "code",
   "execution_count": null,
   "metadata": {},
   "outputs": [],
   "source": []
  },
  {
   "cell_type": "code",
   "execution_count": null,
   "metadata": {},
   "outputs": [],
   "source": []
  }
 ],
 "metadata": {
  "kernelspec": {
   "display_name": "Python 3",
   "language": "python",
   "name": "python3"
  },
  "language_info": {
   "codemirror_mode": {
    "name": "ipython",
    "version": 3
   },
   "file_extension": ".py",
   "mimetype": "text/x-python",
   "name": "python",
   "nbconvert_exporter": "python",
   "pygments_lexer": "ipython3",
   "version": "3.7.1"
  }
 },
 "nbformat": 4,
 "nbformat_minor": 2
}
